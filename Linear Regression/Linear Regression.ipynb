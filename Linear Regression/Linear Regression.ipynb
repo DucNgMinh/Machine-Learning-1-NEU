{
 "cells": [
  {
   "cell_type": "markdown",
   "source": [
    "Biến đổi lại linear regression trên lớp ra latex, từ t = y(x,w) + noise -> w = (X^TX)-1X^Tt\n",
    "Viết code numpy, tìm model linear regression cho bai toán dữ đoán giá nhà, dataset: https://github.com/nttuan8/DL_Tutorial/blob/master/L1/data_linear.csv.\n",
    "Vẽ model dự đoán (đường thẳng) và dữ liệu (point - scatter).\n",
    "Dự đoán giá các căn nhà có diện tích 50, 100, 150.\n",
    "Viết code numpy, tìm model linear regression cho bai toán dữ đoán giá nhà, dataset: https://www.kaggle.com/prasadperera/the-boston-housing-dataset\n",
    "Chứng minh X^TX invertible khi X full rank."
   ],
   "metadata": {
    "collapsed": false,
    "pycharm": {
     "name": "#%% md\n"
    }
   }
  },
  {
   "cell_type": "code",
   "execution_count": 3,
   "outputs": [],
   "source": [
    "import numpy as np\n",
    "import pandas as pd\n",
    "import seaborn as sns\n",
    "import Linear_Regression\n"
   ],
   "metadata": {
    "collapsed": false,
    "pycharm": {
     "name": "#%%\n"
    }
   }
  },
  {
   "cell_type": "code",
   "execution_count": 4,
   "outputs": [
    {
     "data": {
      "text/plain": "    Diện tích       Giá\n0     30.0000   448.524\n1     32.4138   509.248\n2     34.8276   535.104\n3     37.2414   551.432\n4     39.6552   623.418\n5     42.0690   625.992\n6     44.4828   655.248\n7     46.8966   701.377\n8     49.3103   748.918\n9     51.7241   757.881\n10    54.1379   831.004\n11    56.5517   855.409\n12    58.9655   866.707\n13    61.3793   902.545\n14    63.7931   952.261\n15    66.2069   995.531\n16    68.6207  1069.780\n17    71.0345  1074.420\n18    73.4483  1103.880\n19    75.8621  1138.690\n20    78.2759  1153.130\n21    80.6897  1240.270\n22    83.1034  1251.900\n23    85.5172  1287.970\n24    87.9310  1320.470\n25    90.3448  1374.920\n26    92.7586  1410.160\n27    95.1724  1469.690\n28    97.5862  1478.540\n29   100.0000  1515.280",
      "text/html": "<div>\n<style scoped>\n    .dataframe tbody tr th:only-of-type {\n        vertical-align: middle;\n    }\n\n    .dataframe tbody tr th {\n        vertical-align: top;\n    }\n\n    .dataframe thead th {\n        text-align: right;\n    }\n</style>\n<table border=\"1\" class=\"dataframe\">\n  <thead>\n    <tr style=\"text-align: right;\">\n      <th></th>\n      <th>Diện tích</th>\n      <th>Giá</th>\n    </tr>\n  </thead>\n  <tbody>\n    <tr>\n      <th>0</th>\n      <td>30.0000</td>\n      <td>448.524</td>\n    </tr>\n    <tr>\n      <th>1</th>\n      <td>32.4138</td>\n      <td>509.248</td>\n    </tr>\n    <tr>\n      <th>2</th>\n      <td>34.8276</td>\n      <td>535.104</td>\n    </tr>\n    <tr>\n      <th>3</th>\n      <td>37.2414</td>\n      <td>551.432</td>\n    </tr>\n    <tr>\n      <th>4</th>\n      <td>39.6552</td>\n      <td>623.418</td>\n    </tr>\n    <tr>\n      <th>5</th>\n      <td>42.0690</td>\n      <td>625.992</td>\n    </tr>\n    <tr>\n      <th>6</th>\n      <td>44.4828</td>\n      <td>655.248</td>\n    </tr>\n    <tr>\n      <th>7</th>\n      <td>46.8966</td>\n      <td>701.377</td>\n    </tr>\n    <tr>\n      <th>8</th>\n      <td>49.3103</td>\n      <td>748.918</td>\n    </tr>\n    <tr>\n      <th>9</th>\n      <td>51.7241</td>\n      <td>757.881</td>\n    </tr>\n    <tr>\n      <th>10</th>\n      <td>54.1379</td>\n      <td>831.004</td>\n    </tr>\n    <tr>\n      <th>11</th>\n      <td>56.5517</td>\n      <td>855.409</td>\n    </tr>\n    <tr>\n      <th>12</th>\n      <td>58.9655</td>\n      <td>866.707</td>\n    </tr>\n    <tr>\n      <th>13</th>\n      <td>61.3793</td>\n      <td>902.545</td>\n    </tr>\n    <tr>\n      <th>14</th>\n      <td>63.7931</td>\n      <td>952.261</td>\n    </tr>\n    <tr>\n      <th>15</th>\n      <td>66.2069</td>\n      <td>995.531</td>\n    </tr>\n    <tr>\n      <th>16</th>\n      <td>68.6207</td>\n      <td>1069.780</td>\n    </tr>\n    <tr>\n      <th>17</th>\n      <td>71.0345</td>\n      <td>1074.420</td>\n    </tr>\n    <tr>\n      <th>18</th>\n      <td>73.4483</td>\n      <td>1103.880</td>\n    </tr>\n    <tr>\n      <th>19</th>\n      <td>75.8621</td>\n      <td>1138.690</td>\n    </tr>\n    <tr>\n      <th>20</th>\n      <td>78.2759</td>\n      <td>1153.130</td>\n    </tr>\n    <tr>\n      <th>21</th>\n      <td>80.6897</td>\n      <td>1240.270</td>\n    </tr>\n    <tr>\n      <th>22</th>\n      <td>83.1034</td>\n      <td>1251.900</td>\n    </tr>\n    <tr>\n      <th>23</th>\n      <td>85.5172</td>\n      <td>1287.970</td>\n    </tr>\n    <tr>\n      <th>24</th>\n      <td>87.9310</td>\n      <td>1320.470</td>\n    </tr>\n    <tr>\n      <th>25</th>\n      <td>90.3448</td>\n      <td>1374.920</td>\n    </tr>\n    <tr>\n      <th>26</th>\n      <td>92.7586</td>\n      <td>1410.160</td>\n    </tr>\n    <tr>\n      <th>27</th>\n      <td>95.1724</td>\n      <td>1469.690</td>\n    </tr>\n    <tr>\n      <th>28</th>\n      <td>97.5862</td>\n      <td>1478.540</td>\n    </tr>\n    <tr>\n      <th>29</th>\n      <td>100.0000</td>\n      <td>1515.280</td>\n    </tr>\n  </tbody>\n</table>\n</div>"
     },
     "execution_count": 4,
     "metadata": {},
     "output_type": "execute_result"
    }
   ],
   "source": [
    "df1 = pd.read_csv(\"data_linear.csv\")\n",
    "Y = df1[\"Giá\"]\n",
    "X = df1.drop(\"Giá\", axis= 1)\n",
    "df1"
   ],
   "metadata": {
    "collapsed": false,
    "pycharm": {
     "name": "#%%\n"
    }
   }
  },
  {
   "cell_type": "code",
   "execution_count": 5,
   "outputs": [
    {
     "data": {
      "text/plain": "<AxesSubplot:xlabel='Diện tích', ylabel='Giá'>"
     },
     "execution_count": 5,
     "metadata": {},
     "output_type": "execute_result"
    },
    {
     "data": {
      "text/plain": "<Figure size 432x288 with 1 Axes>",
      "image/png": "[encoded data removed]"
     },
     "metadata": {},
     "output_type": "display_data"
    }
   ],
   "source": [
    "sns.regplot(x= df1[\"Diện tích\"], y= df1[\"Giá\"])"
   ],
   "metadata": {
    "collapsed": false,
    "pycharm": {
     "name": "#%%\n"
    }
   }
  },
  {
   "cell_type": "code",
   "execution_count": 6,
   "outputs": [],
   "source": [
    "linear_model1 = Linear_Regression.LinearRegression()\n",
    "linear_model1.fit(X, Y)"
   ],
   "metadata": {
    "collapsed": false,
    "pycharm": {
     "name": "#%%\n"
    }
   }
  },
  {
   "cell_type": "code",
   "execution_count": 7,
   "outputs": [
    {
     "data": {
      "text/plain": "array([-7.06426865, 15.2110908 ])"
     },
     "execution_count": 7,
     "metadata": {},
     "output_type": "execute_result"
    }
   ],
   "source": [
    "linear_model1.theta"
   ],
   "metadata": {
    "collapsed": false,
    "pycharm": {
     "name": "#%%\n"
    }
   }
  },
  {
   "cell_type": "code",
   "execution_count": 8,
   "outputs": [
    {
     "name": "stdout",
     "output_type": "stream",
     "text": [
      "753.4902713383137\n",
      "1514.0448113217583\n",
      "2274.5993513052026\n"
     ]
    }
   ],
   "source": [
    "for i in [50, 100, 150]:\n",
    "    print(linear_model1.predict(i))"
   ],
   "metadata": {
    "collapsed": false,
    "pycharm": {
     "name": "#%%\n"
    }
   }
  },
  {
   "cell_type": "code",
   "execution_count": 9,
   "outputs": [],
   "source": [
    "df2 = pd.read_csv(\"housing.xls\", header=None, delimiter=r\"\\s+\")\n",
    "column_names = [\"CRIM\", \"ZN\", \"INDUS\", \"CHAS\", \"NOX\", \"RM\", \"AGE\", \"DIS\",\n",
    "                \"RAD\", \"TAX\", \"PTRATIO\", \"B\", \"LSTAT\", \"PRICE\"]\n",
    "df2.columns = column_names\n",
    "\n",
    "X = df2.iloc[:,:-1]\n",
    "Y = df2[\"PRICE\"]"
   ],
   "metadata": {
    "collapsed": false,
    "pycharm": {
     "name": "#%%\n"
    }
   }
  },
  {
   "cell_type": "code",
   "execution_count": 10,
   "outputs": [],
   "source": [
    "linear_model2 = Linear_Regression.LinearRegression()\n",
    "linear_model2.fit(X,Y)"
   ],
   "metadata": {
    "collapsed": false,
    "pycharm": {
     "name": "#%%\n"
    }
   }
  }
 ],
 "metadata": {
  "kernelspec": {
   "display_name": "Python 3",
   "language": "python",
   "name": "python3"
  },
  "language_info": {
   "codemirror_mode": {
    "name": "ipython",
    "version": 2
   },
   "file_extension": ".py",
   "mimetype": "text/x-python",
   "name": "python",
   "nbconvert_exporter": "python",
   "pygments_lexer": "ipython2",
   "version": "2.7.6"
  }
 },
 "nbformat": 4,
 "nbformat_minor": 0
}